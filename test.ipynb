{
 "cells": [
  {
   "cell_type": "code",
   "execution_count": 25,
   "metadata": {},
   "outputs": [
    {
     "name": "stdout",
     "output_type": "stream",
     "text": [
      "[('302', 'main road', None, 'kkd')]\n",
      "[['302', 'main road', '-', 'kkd']]\n",
      "['302', 'main road', '-', 'kkd']\n"
     ]
    }
   ],
   "source": [
    "import mysql.connector as sql\n",
    "mydb = sql.connect(host=\"localhost\",user=\"root\",passwd=\"Jntu@1423\",database=\"mydb1\",auth_plugin='mysql_native_password')\n",
    "cur = mydb.cursor()\n",
    "\n",
    "\n",
    "pid = 676987888\n",
    "\n",
    "def ex_q(q):\n",
    "    cur.execute(q)\n",
    "    x = cur.fetchall()\n",
    "    if x == [(None,)]:\n",
    "        return [[\"No Data\"]]\n",
    "    if x:\n",
    "        print(x)\n",
    "        x=[list(i) for i in x ]\n",
    "        for i in range(len(x)):\n",
    "            for j in range(len(x[i])):\n",
    "                if x[i][j] is None:\n",
    "                    x[i][j]=\"-\"\n",
    "        print(x)\n",
    "        return x\n",
    "    else:\n",
    "        return [[\"No Data\"]]\n",
    "    \n",
    "    \n",
    "    \n",
    "print(list(ex_q(\"select address_building_no,address_street_1,address_street_2,address_area from address where patient_id=\"+str(pid))[0]))"
   ]
  },
  {
   "cell_type": "code",
   "execution_count": 19,
   "metadata": {},
   "outputs": [
    {
     "name": "stdout",
     "output_type": "stream",
     "text": [
      "hellot6ygg\n"
     ]
    }
   ],
   "source": [
    "print(\"hellot6ygg\")"
   ]
  },
  {
   "cell_type": "code",
   "execution_count": 26,
   "metadata": {},
   "outputs": [],
   "source": [
    "\n",
    "def ex_q(q):\n",
    "    cur.execute(q)\n",
    "    x = cur.fetchall()\n",
    "    if x == [(None,)]:\n",
    "        return [[\"No Data\"]]\n",
    "    if x:\n",
    "        for i in x:\n",
    "            if i is None:\n",
    "                i = \"No Data\"\n",
    "        return x\n",
    "    else:\n",
    "        return [[\"No Data\"]]"
   ]
  },
  {
   "cell_type": "code",
   "execution_count": null,
   "metadata": {},
   "outputs": [],
   "source": []
  }
 ],
 "metadata": {
  "kernelspec": {
   "display_name": "Python 3",
   "language": "python",
   "name": "python3"
  },
  "language_info": {
   "codemirror_mode": {
    "name": "ipython",
    "version": 3
   },
   "file_extension": ".py",
   "mimetype": "text/x-python",
   "name": "python",
   "nbconvert_exporter": "python",
   "pygments_lexer": "ipython3",
   "version": "3.7.4"
  }
 },
 "nbformat": 4,
 "nbformat_minor": 2
}
